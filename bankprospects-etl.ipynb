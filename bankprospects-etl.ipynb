{
  "nbformat": 4,
  "nbformat_minor": 0,
  "metadata": {
    "colab": {
      "name": "sample_bank_marketing.ipynb",
      "provenance": []
    },
    "kernelspec": {
      "name": "python3",
      "display_name": "Python 3"
    }
  },
  "cells": [
    {
      "cell_type": "markdown",
      "metadata": {
        "id": "QZ5u_3-zlzjU",
        "colab_type": "text"
      },
      "source": [
        "## Install JDK\n",
        "## Install Spark\n",
        "## Set Environment variables\n",
        "## Create a Spark Session"
      ]
    },
    {
      "cell_type": "code",
      "metadata": {
        "id": "l2kqOg6rRo2D",
        "colab_type": "code",
        "colab": {}
      },
      "source": [
        "!apt-get install openjdk-8-jdk-headless -qq > /dev/null\n",
        "!wget -q https://archive.apache.org/dist/spark/spark-2.4.3/spark-2.4.3-bin-hadoop2.6.tgz\n",
        "!tar -xvf spark-2.4.3-bin-hadoop2.6.tgz\n",
        "!pip install -q findspark\n",
        "import os\n",
        "os.environ[\"JAVA_HOME\"] = \"/usr/lib/jvm/java-8-openjdk-amd64\"\n",
        "os.environ[\"SPARK_HOME\"] = \"/content/spark-2.4.3-bin-hadoop2.6\"\n",
        "import findspark\n",
        "findspark.init()\n",
        "from pyspark.sql import SparkSession\n",
        "spark = SparkSession \\\n",
        "          .builder \\\n",
        "          .master(\"local[*]\") \\\n",
        "          .enableHiveSupport() \\\n",
        "          .getOrCreate() \\"
      ],
      "execution_count": 0,
      "outputs": []
    },
    {
      "cell_type": "code",
      "metadata": {
        "id": "YmBOEu6MSD47",
        "colab_type": "code",
        "colab": {
          "base_uri": "https://localhost:8080/",
          "height": 204
        },
        "outputId": "1966fd1e-1381-430c-e639-289b361bb5c3"
      },
      "source": [
        "!wget https://raw.githubusercontent.com/futurexskill/bigdata/master/bank_prospects.csv"
      ],
      "execution_count": 7,
      "outputs": [
        {
          "output_type": "stream",
          "text": [
            "--2020-06-14 01:51:58--  https://raw.githubusercontent.com/futurexskill/bigdata/master/bank_prospects.csv\n",
            "Resolving raw.githubusercontent.com (raw.githubusercontent.com)... 151.101.0.133, 151.101.64.133, 151.101.128.133, ...\n",
            "Connecting to raw.githubusercontent.com (raw.githubusercontent.com)|151.101.0.133|:443... connected.\n",
            "HTTP request sent, awaiting response... 200 OK\n",
            "Length: 306 [text/plain]\n",
            "Saving to: ‘bank_prospects.csv’\n",
            "\n",
            "\rbank_prospects.csv    0%[                    ]       0  --.-KB/s               \rbank_prospects.csv  100%[===================>]     306  --.-KB/s    in 0s      \n",
            "\n",
            "2020-06-14 01:51:58 (12.4 MB/s) - ‘bank_prospects.csv’ saved [306/306]\n",
            "\n"
          ],
          "name": "stdout"
        }
      ]
    },
    {
      "cell_type": "code",
      "metadata": {
        "id": "s7hS9cbASR82",
        "colab_type": "code",
        "colab": {
          "base_uri": "https://localhost:8080/",
          "height": 51
        },
        "outputId": "d01d3e29-75e4-42b8-e2f1-c42dabdc38d2"
      },
      "source": [
        "!ls"
      ],
      "execution_count": 8,
      "outputs": [
        {
          "output_type": "stream",
          "text": [
            "bank_prospects.csv  sample_data\t\t       spark-2.4.3-bin-hadoop2.6.tgz\n",
            "retailstore.csv     spark-2.4.3-bin-hadoop2.6\n"
          ],
          "name": "stdout"
        }
      ]
    },
    {
      "cell_type": "code",
      "metadata": {
        "id": "6v0Pcn0Wi2nl",
        "colab_type": "code",
        "colab": {}
      },
      "source": [
        "from pyspark.sql.types import FloatType\n",
        "from pyspark.sql.functions import mean"
      ],
      "execution_count": 0,
      "outputs": []
    },
    {
      "cell_type": "markdown",
      "metadata": {
        "id": "s97hawtXmojj",
        "colab_type": "text"
      },
      "source": [
        "## Extracting Bank Prospects Data Frame from CSV File\n"
      ]
    },
    {
      "cell_type": "code",
      "metadata": {
        "id": "jtI7ayY9SYUI",
        "colab_type": "code",
        "colab": {
          "base_uri": "https://localhost:8080/",
          "height": 289
        },
        "outputId": "779fbd0e-5950-4db9-c500-f463422ab0f1"
      },
      "source": [
        "bankProspectsDf = spark.read.csv('bank_prospects.csv', header=True, inferSchema=True)\n",
        "bankProspectsDf.show()"
      ],
      "execution_count": 26,
      "outputs": [
        {
          "output_type": "stream",
          "text": [
            "+----+------+------+-------+---------+\n",
            "| Age|Salary|Gender|Country|Purchased|\n",
            "+----+------+------+-------+---------+\n",
            "|  18| 20000|  Male|Germany|        N|\n",
            "|  19| 22000|Female| France|        N|\n",
            "|  20| 24000|Female|England|        N|\n",
            "|  21|  null|  Male|England|        N|\n",
            "|  22| 50000|  Male| France|        Y|\n",
            "|  23| 35000|Female|England|        N|\n",
            "|  24|  null|  Male|Germany|        N|\n",
            "|  25| 32000|Female| France|        Y|\n",
            "|null| 35000|  Male|Germany|        N|\n",
            "|  27| 37000|Female| France|        N|\n",
            "|  27| 37000|Female|unknown|        N|\n",
            "+----+------+------+-------+---------+\n",
            "\n"
          ],
          "name": "stdout"
        }
      ]
    },
    {
      "cell_type": "code",
      "metadata": {
        "id": "y3783ycYh01_",
        "colab_type": "code",
        "colab": {
          "base_uri": "https://localhost:8080/",
          "height": 136
        },
        "outputId": "ed8d21d8-ba3b-478a-8058-74ecca7ed404"
      },
      "source": [
        "bankProspectsDf.printSchema()"
      ],
      "execution_count": 27,
      "outputs": [
        {
          "output_type": "stream",
          "text": [
            "root\n",
            " |-- Age: integer (nullable = true)\n",
            " |-- Salary: integer (nullable = true)\n",
            " |-- Gender: string (nullable = true)\n",
            " |-- Country: string (nullable = true)\n",
            " |-- Purchased: string (nullable = true)\n",
            "\n"
          ],
          "name": "stdout"
        }
      ]
    },
    {
      "cell_type": "markdown",
      "metadata": {
        "id": "b8_ciQCYm79J",
        "colab_type": "text"
      },
      "source": [
        "## Changing Salary Column Datatype to Float"
      ]
    },
    {
      "cell_type": "code",
      "metadata": {
        "id": "ypC_mwk1iOEW",
        "colab_type": "code",
        "colab": {
          "base_uri": "https://localhost:8080/",
          "height": 136
        },
        "outputId": "6e30fc42-c44e-4b75-90dd-d57299c2db4c"
      },
      "source": [
        "bankProspectsDf2 = bankProspectsDf.withColumn(\"Salary\", bankProspectsDf.Salary.cast(FloatType()))\n",
        "bankProspectsDf2.printSchema()"
      ],
      "execution_count": 28,
      "outputs": [
        {
          "output_type": "stream",
          "text": [
            "root\n",
            " |-- Age: integer (nullable = true)\n",
            " |-- Salary: float (nullable = true)\n",
            " |-- Gender: string (nullable = true)\n",
            " |-- Country: string (nullable = true)\n",
            " |-- Purchased: string (nullable = true)\n",
            "\n"
          ],
          "name": "stdout"
        }
      ]
    },
    {
      "cell_type": "markdown",
      "metadata": {
        "id": "pW0K77GJnYy2",
        "colab_type": "text"
      },
      "source": [
        "## Cleaning Rows with Unknown Countries"
      ]
    },
    {
      "cell_type": "code",
      "metadata": {
        "id": "C7QRUe2gg9Qn",
        "colab_type": "code",
        "colab": {
          "base_uri": "https://localhost:8080/",
          "height": 272
        },
        "outputId": "15b8c5d4-dfe2-4ce8-ac28-44c636c370b2"
      },
      "source": [
        "no_unknown_countryDf = bankProspectsDf2.filter(bankProspectsDf2.Country != 'unknown')\n",
        "no_unknown_countryDf.show()"
      ],
      "execution_count": 29,
      "outputs": [
        {
          "output_type": "stream",
          "text": [
            "+----+-------+------+-------+---------+\n",
            "| Age| Salary|Gender|Country|Purchased|\n",
            "+----+-------+------+-------+---------+\n",
            "|  18|20000.0|  Male|Germany|        N|\n",
            "|  19|22000.0|Female| France|        N|\n",
            "|  20|24000.0|Female|England|        N|\n",
            "|  21|   null|  Male|England|        N|\n",
            "|  22|50000.0|  Male| France|        Y|\n",
            "|  23|35000.0|Female|England|        N|\n",
            "|  24|   null|  Male|Germany|        N|\n",
            "|  25|32000.0|Female| France|        Y|\n",
            "|null|35000.0|  Male|Germany|        N|\n",
            "|  27|37000.0|Female| France|        N|\n",
            "+----+-------+------+-------+---------+\n",
            "\n"
          ],
          "name": "stdout"
        }
      ]
    },
    {
      "cell_type": "markdown",
      "metadata": {
        "id": "NtZMsGiunJKN",
        "colab_type": "text"
      },
      "source": [
        "## Calculating Avg Age and Avg Salary"
      ]
    },
    {
      "cell_type": "code",
      "metadata": {
        "id": "NuvaZlA0iQsl",
        "colab_type": "code",
        "colab": {
          "base_uri": "https://localhost:8080/",
          "height": 34
        },
        "outputId": "2cbeef37-d253-42e7-8860-2a4b1f498be9"
      },
      "source": [
        "meanAge = no_unknown_countryDf.select(mean(no_unknown_countryDf.Age)).collect()\n",
        "meanAgeVal = meanAge[0][0]\n",
        "print('Mean Age Value', meanAgeVal)"
      ],
      "execution_count": 30,
      "outputs": [
        {
          "output_type": "stream",
          "text": [
            "Mean Age Value 22.11111111111111\n"
          ],
          "name": "stdout"
        }
      ]
    },
    {
      "cell_type": "code",
      "metadata": {
        "id": "1U4ZQjNwlTEt",
        "colab_type": "code",
        "colab": {
          "base_uri": "https://localhost:8080/",
          "height": 34
        },
        "outputId": "854a3a09-ed7c-4228-a0ef-0009a9904c48"
      },
      "source": [
        "meanSalary = no_unknown_countryDf.select(mean(no_unknown_countryDf.Salary)).collect()\n",
        "meanSalaryVal = meanSalary[0][0]\n",
        "print('Mean Salary Value', meanSalaryVal)"
      ],
      "execution_count": 31,
      "outputs": [
        {
          "output_type": "stream",
          "text": [
            "Mean Salary Value 31875.0\n"
          ],
          "name": "stdout"
        }
      ]
    },
    {
      "cell_type": "markdown",
      "metadata": {
        "id": "K5jyEBgrnmfn",
        "colab_type": "text"
      },
      "source": [
        "## Replacing Null Values with Avg Values"
      ]
    },
    {
      "cell_type": "code",
      "metadata": {
        "id": "i39Nol1Ulufu",
        "colab_type": "code",
        "colab": {
          "base_uri": "https://localhost:8080/",
          "height": 272
        },
        "outputId": "195ddb20-5c98-47a3-93f4-8c783e733c7e"
      },
      "source": [
        "no_nullDf = no_unknown_countryDf.fillna({\"Age\": meanAgeVal, \"Salary\": meanSalaryVal});\n",
        "no_nullDf.show()"
      ],
      "execution_count": 33,
      "outputs": [
        {
          "output_type": "stream",
          "text": [
            "+---+-------+------+-------+---------+\n",
            "|Age| Salary|Gender|Country|Purchased|\n",
            "+---+-------+------+-------+---------+\n",
            "| 18|20000.0|  Male|Germany|        N|\n",
            "| 19|22000.0|Female| France|        N|\n",
            "| 20|24000.0|Female|England|        N|\n",
            "| 21|31875.0|  Male|England|        N|\n",
            "| 22|50000.0|  Male| France|        Y|\n",
            "| 23|35000.0|Female|England|        N|\n",
            "| 24|31875.0|  Male|Germany|        N|\n",
            "| 25|32000.0|Female| France|        Y|\n",
            "| 22|35000.0|  Male|Germany|        N|\n",
            "| 27|37000.0|Female| France|        N|\n",
            "+---+-------+------+-------+---------+\n",
            "\n"
          ],
          "name": "stdout"
        }
      ]
    },
    {
      "cell_type": "markdown",
      "metadata": {
        "id": "XBTZRW01oxeU",
        "colab_type": "text"
      },
      "source": [
        "## Writing the transformed data frame to a new csv file"
      ]
    },
    {
      "cell_type": "code",
      "metadata": {
        "id": "ssbY4he8o3I0",
        "colab_type": "code",
        "colab": {}
      },
      "source": [
        "no_nullDf.write.format('csv').save('BankProspects_Transformed')"
      ],
      "execution_count": 0,
      "outputs": []
    },
    {
      "cell_type": "code",
      "metadata": {
        "id": "y5JKc-m4pLTK",
        "colab_type": "code",
        "colab": {
          "base_uri": "https://localhost:8080/",
          "height": 51
        },
        "outputId": "ad564202-2d44-40e2-a20b-7c83f07eb1d1"
      },
      "source": [
        "!ls"
      ],
      "execution_count": 35,
      "outputs": [
        {
          "output_type": "stream",
          "text": [
            "bank_prospects.csv\t   retailstore.csv  spark-2.4.3-bin-hadoop2.6\n",
            "BankProspects_Transformed  sample_data\t    spark-2.4.3-bin-hadoop2.6.tgz\n"
          ],
          "name": "stdout"
        }
      ]
    },
    {
      "cell_type": "code",
      "metadata": {
        "id": "0HhlgAawpMya",
        "colab_type": "code",
        "colab": {
          "base_uri": "https://localhost:8080/",
          "height": 34
        },
        "outputId": "502b110b-485e-49cd-fb99-0fdb9aa49c80"
      },
      "source": [
        "!ls BankProspects_Transformed/"
      ],
      "execution_count": 36,
      "outputs": [
        {
          "output_type": "stream",
          "text": [
            "part-00000-de2ab7ed-8eed-48c9-99f2-97f9940631bf-c000.csv  _SUCCESS\n"
          ],
          "name": "stdout"
        }
      ]
    },
    {
      "cell_type": "code",
      "metadata": {
        "id": "2MQ9xC-GpX4m",
        "colab_type": "code",
        "colab": {}
      },
      "source": [
        "!mv BankProspects_Transformed/part-00000-de2ab7ed-8eed-48c9-99f2-97f9940631bf-c000.csv BankProspects_Transformed/bank_prospects_clean.csv"
      ],
      "execution_count": 0,
      "outputs": []
    },
    {
      "cell_type": "code",
      "metadata": {
        "id": "5Vi_qZ_Vppf0",
        "colab_type": "code",
        "colab": {
          "base_uri": "https://localhost:8080/",
          "height": 187
        },
        "outputId": "ac708bdd-90e4-46ba-fa8b-22334c09c3c7"
      },
      "source": [
        "!cat BankProspects_Transformed/bank_prospects_clean.csv"
      ],
      "execution_count": 38,
      "outputs": [
        {
          "output_type": "stream",
          "text": [
            "18,20000.0,Male,Germany,N\n",
            "19,22000.0,Female,France,N\n",
            "20,24000.0,Female,England,N\n",
            "21,31875.0,Male,England,N\n",
            "22,50000.0,Male,France,Y\n",
            "23,35000.0,Female,England,N\n",
            "24,31875.0,Male,Germany,N\n",
            "25,32000.0,Female,France,Y\n",
            "22,35000.0,Male,Germany,N\n",
            "27,37000.0,Female,France,N\n"
          ],
          "name": "stdout"
        }
      ]
    },
    {
      "cell_type": "markdown",
      "metadata": {
        "id": "bGEYIb3t9egX",
        "colab_type": "text"
      },
      "source": [
        "## Loading Transformed Data into Hive Table\n"
      ]
    },
    {
      "cell_type": "code",
      "metadata": {
        "id": "EGbIA9L-puIV",
        "colab_type": "code",
        "colab": {}
      },
      "source": [
        "no_nullDf.write.mode(\"overwrite\").saveAsTable(\"bank.prospectclean\")\n",
        "spark.sql(\"select * from bank.prospectclean\").show()"
      ],
      "execution_count": 0,
      "outputs": []
    }
  ]
}